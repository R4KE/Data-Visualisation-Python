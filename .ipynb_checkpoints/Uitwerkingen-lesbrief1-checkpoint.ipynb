{
 "cells": [
  {
   "cell_type": "code",
   "execution_count": 15,
   "metadata": {},
   "outputs": [
    {
     "name": "stdout",
     "output_type": "stream",
     "text": [
      "100\n"
     ]
    }
   ],
   "source": [
    "getallenLijst = ([8, 0, 100, 12, 1])\n",
    "middle = (len(getallenLijst)) // 2\n",
    "print (getallenLijst[middle])"
   ]
  },
  {
   "cell_type": "code",
   "execution_count": 36,
   "metadata": {},
   "outputs": [
    {
     "name": "stdout",
     "output_type": "stream",
     "text": [
      "1\n"
     ]
    }
   ],
   "source": [
    "getallenLijst = ([8, 0, 100, 12, 1])\n",
    "last = (len(getallenLijst) - 1)\n",
    "print (getallenLijst[last])"
   ]
  },
  {
   "cell_type": "code",
   "execution_count": 44,
   "metadata": {},
   "outputs": [
    {
     "name": "stdout",
     "output_type": "stream",
     "text": [
      "Noem een woord: aa\n",
      "aa is een palindrome...\n"
     ]
    }
   ],
   "source": [
    "woord = input(\"Noem een woord: \" )\n",
    "if (woord == woord[::-1]):\n",
    "    print(woord + \" is een palindrome...\")\n",
    "else: \n",
    "    print(woord + \" is een niet palindrome...\")"
   ]
  },
  {
   "cell_type": "code",
   "execution_count": null,
   "metadata": {},
   "outputs": [],
   "source": []
  },
  {
   "cell_type": "code",
   "execution_count": null,
   "metadata": {},
   "outputs": [],
   "source": []
  }
 ],
 "metadata": {
  "kernelspec": {
   "display_name": "Python 3.6",
   "language": "python",
   "name": "python36"
  },
  "language_info": {
   "codemirror_mode": {
    "name": "ipython",
    "version": 3
   },
   "file_extension": ".py",
   "mimetype": "text/x-python",
   "name": "python",
   "nbconvert_exporter": "python",
   "pygments_lexer": "ipython3",
   "version": "3.6.3"
  }
 },
 "nbformat": 4,
 "nbformat_minor": 2
}
