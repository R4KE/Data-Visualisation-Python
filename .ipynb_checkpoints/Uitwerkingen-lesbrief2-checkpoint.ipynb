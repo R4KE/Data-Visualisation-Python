{
 "cells": [
  {
   "cell_type": "code",
   "execution_count": 13,
   "metadata": {},
   "outputs": [
    {
     "name": "stdout",
     "output_type": "stream",
     "text": [
      "Element:  23\n",
      "Element:  43\n",
      "Element:  102\n",
      "Element:  76\n",
      "Element:  8\n",
      "Element:  98\n",
      "Element:  90\n"
     ]
    }
   ],
   "source": [
    "import pandas as pd\n",
    "sNum = pd.Series([23,43,102,76,8,98,90])\n",
    "for item in sNum:\n",
    "       print (\"Element: \", item)"
   ]
  },
  {
   "cell_type": "code",
   "execution_count": null,
   "metadata": {},
   "outputs": [],
   "source": []
  }
 ],
 "metadata": {
  "kernelspec": {
   "display_name": "Python 3.6",
   "language": "python",
   "name": "python36"
  },
  "language_info": {
   "codemirror_mode": {
    "name": "ipython",
    "version": 3
   },
   "file_extension": ".py",
   "mimetype": "text/x-python",
   "name": "python",
   "nbconvert_exporter": "python",
   "pygments_lexer": "ipython3",
   "version": "3.6.3"
  }
 },
 "nbformat": 4,
 "nbformat_minor": 2
}
