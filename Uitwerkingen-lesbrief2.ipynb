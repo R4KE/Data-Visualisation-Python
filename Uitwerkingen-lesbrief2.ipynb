{
 "cells": [
  {
   "cell_type": "code",
   "execution_count": 29,
   "metadata": {},
   "outputs": [
    {
     "data": {
      "text/plain": [
       "2    102\n",
       "4      8\n",
       "dtype: int64"
      ]
     },
     "execution_count": 29,
     "metadata": {},
     "output_type": "execute_result"
    }
   ],
   "source": [
    "import pandas as pd\n",
    "sNum[(sNum < 20) | (sNum > 100)]"
   ]
  },
  {
   "cell_type": "code",
   "execution_count": 32,
   "metadata": {},
   "outputs": [
    {
     "name": "stdout",
     "output_type": "stream",
     "text": [
      "6.449999999999999\n"
     ]
    }
   ],
   "source": [
    "import pandas as pd\n",
    "sNum = pd.Series([6, 7, 8, 4, 5.5, 6.5, 7, 2, 5, 4, 3, 8, 9, 9.8, 9.7, 9.4, 2, 5, 7, 8, 6.2, 5.7, 8, 9])\n",
    "print (sNum.mean())"
   ]
  }
 ],
 "metadata": {
  "kernelspec": {
   "display_name": "Python 3.6",
   "language": "python",
   "name": "python36"
  },
  "language_info": {
   "codemirror_mode": {
    "name": "ipython",
    "version": 3
   },
   "file_extension": ".py",
   "mimetype": "text/x-python",
   "name": "python",
   "nbconvert_exporter": "python",
   "pygments_lexer": "ipython3",
   "version": "3.6.3"
  }
 },
 "nbformat": 4,
 "nbformat_minor": 2
}
