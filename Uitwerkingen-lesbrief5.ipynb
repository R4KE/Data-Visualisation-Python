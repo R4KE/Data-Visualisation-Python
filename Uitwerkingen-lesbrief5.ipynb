{
 "cells": [
  {
   "cell_type": "code",
   "execution_count": 6,
   "metadata": {},
   "outputs": [
    {
     "name": "stdout",
     "output_type": "stream",
     "text": [
      "Requirement already satisfied: folium in /home/nbuser/anaconda3_501/lib/python3.6/site-packages (0.5.0)\n",
      "Requirement already satisfied: six in /home/nbuser/anaconda3_501/lib/python3.6/site-packages (from folium) (1.11.0)\n",
      "Requirement already satisfied: jinja2 in /home/nbuser/anaconda3_501/lib/python3.6/site-packages (from folium) (2.9.6)\n",
      "Requirement already satisfied: branca in /home/nbuser/anaconda3_501/lib/python3.6/site-packages (from folium) (0.3.0)\n",
      "Requirement already satisfied: requests in /home/nbuser/anaconda3_501/lib/python3.6/site-packages (from folium) (2.18.4)\n",
      "Requirement already satisfied: MarkupSafe>=0.23 in /home/nbuser/anaconda3_501/lib/python3.6/site-packages (from jinja2->folium) (1.0)\n",
      "Requirement already satisfied: chardet<3.1.0,>=3.0.2 in /home/nbuser/anaconda3_501/lib/python3.6/site-packages (from requests->folium) (3.0.4)\n",
      "Requirement already satisfied: idna<2.7,>=2.5 in /home/nbuser/anaconda3_501/lib/python3.6/site-packages (from requests->folium) (2.6)\n",
      "Requirement already satisfied: urllib3<1.23,>=1.21.1 in /home/nbuser/anaconda3_501/lib/python3.6/site-packages (from requests->folium) (1.22)\n",
      "Requirement already satisfied: certifi>=2017.4.17 in /home/nbuser/anaconda3_501/lib/python3.6/site-packages (from requests->folium) (2017.7.27.1)\n"
     ]
    }
   ],
   "source": [
    "!pip install folium"
   ]
  },
  {
   "cell_type": "code",
   "execution_count": 7,
   "metadata": {},
   "outputs": [
    {
     "data": {
      "text/html": [
       "<div style=\"width:100%;\"><div style=\"position:relative;width:100%;height:0;padding-bottom:60%;\"><iframe src=\"data:text/html;charset=utf-8;base64,PCFET0NUWVBFIGh0bWw+CjxoZWFkPiAgICAKICAgIDxtZXRhIGh0dHAtZXF1aXY9ImNvbnRlbnQtdHlwZSIgY29udGVudD0idGV4dC9odG1sOyBjaGFyc2V0PVVURi04IiAvPgogICAgPHNjcmlwdD5MX1BSRUZFUl9DQU5WQVMgPSBmYWxzZTsgTF9OT19UT1VDSCA9IGZhbHNlOyBMX0RJU0FCTEVfM0QgPSBmYWxzZTs8L3NjcmlwdD4KICAgIDxzY3JpcHQgc3JjPSJodHRwczovL2Nkbi5qc2RlbGl2ci5uZXQvbnBtL2xlYWZsZXRAMS4yLjAvZGlzdC9sZWFmbGV0LmpzIj48L3NjcmlwdD4KICAgIDxzY3JpcHQgc3JjPSJodHRwczovL2FqYXguZ29vZ2xlYXBpcy5jb20vYWpheC9saWJzL2pxdWVyeS8xLjExLjEvanF1ZXJ5Lm1pbi5qcyI+PC9zY3JpcHQ+CiAgICA8c2NyaXB0IHNyYz0iaHR0cHM6Ly9tYXhjZG4uYm9vdHN0cmFwY2RuLmNvbS9ib290c3RyYXAvMy4yLjAvanMvYm9vdHN0cmFwLm1pbi5qcyI+PC9zY3JpcHQ+CiAgICA8c2NyaXB0IHNyYz0iaHR0cHM6Ly9jZG5qcy5jbG91ZGZsYXJlLmNvbS9hamF4L2xpYnMvTGVhZmxldC5hd2Vzb21lLW1hcmtlcnMvMi4wLjIvbGVhZmxldC5hd2Vzb21lLW1hcmtlcnMuanMiPjwvc2NyaXB0PgogICAgPGxpbmsgcmVsPSJzdHlsZXNoZWV0IiBocmVmPSJodHRwczovL2Nkbi5qc2RlbGl2ci5uZXQvbnBtL2xlYWZsZXRAMS4yLjAvZGlzdC9sZWFmbGV0LmNzcyIvPgogICAgPGxpbmsgcmVsPSJzdHlsZXNoZWV0IiBocmVmPSJodHRwczovL21heGNkbi5ib290c3RyYXBjZG4uY29tL2Jvb3RzdHJhcC8zLjIuMC9jc3MvYm9vdHN0cmFwLm1pbi5jc3MiLz4KICAgIDxsaW5rIHJlbD0ic3R5bGVzaGVldCIgaHJlZj0iaHR0cHM6Ly9tYXhjZG4uYm9vdHN0cmFwY2RuLmNvbS9ib290c3RyYXAvMy4yLjAvY3NzL2Jvb3RzdHJhcC10aGVtZS5taW4uY3NzIi8+CiAgICA8bGluayByZWw9InN0eWxlc2hlZXQiIGhyZWY9Imh0dHBzOi8vbWF4Y2RuLmJvb3RzdHJhcGNkbi5jb20vZm9udC1hd2Vzb21lLzQuNi4zL2Nzcy9mb250LWF3ZXNvbWUubWluLmNzcyIvPgogICAgPGxpbmsgcmVsPSJzdHlsZXNoZWV0IiBocmVmPSJodHRwczovL2NkbmpzLmNsb3VkZmxhcmUuY29tL2FqYXgvbGlicy9MZWFmbGV0LmF3ZXNvbWUtbWFya2Vycy8yLjAuMi9sZWFmbGV0LmF3ZXNvbWUtbWFya2Vycy5jc3MiLz4KICAgIDxsaW5rIHJlbD0ic3R5bGVzaGVldCIgaHJlZj0iaHR0cHM6Ly9yYXdnaXQuY29tL3B5dGhvbi12aXN1YWxpemF0aW9uL2ZvbGl1bS9tYXN0ZXIvZm9saXVtL3RlbXBsYXRlcy9sZWFmbGV0LmF3ZXNvbWUucm90YXRlLmNzcyIvPgogICAgPHN0eWxlPmh0bWwsIGJvZHkge3dpZHRoOiAxMDAlO2hlaWdodDogMTAwJTttYXJnaW46IDA7cGFkZGluZzogMDt9PC9zdHlsZT4KICAgIDxzdHlsZT4jbWFwIHtwb3NpdGlvbjphYnNvbHV0ZTt0b3A6MDtib3R0b206MDtyaWdodDowO2xlZnQ6MDt9PC9zdHlsZT4KICAgIAogICAgICAgICAgICA8c3R5bGU+ICNtYXBfZjhkNjhmOTAwMDQxNDE3MDlkNjM5ZDdmMjQ4YjExNDggewogICAgICAgICAgICAgICAgcG9zaXRpb24gOiByZWxhdGl2ZTsKICAgICAgICAgICAgICAgIHdpZHRoIDogMTAwLjAlOwogICAgICAgICAgICAgICAgaGVpZ2h0OiAxMDAuMCU7CiAgICAgICAgICAgICAgICBsZWZ0OiAwLjAlOwogICAgICAgICAgICAgICAgdG9wOiAwLjAlOwogICAgICAgICAgICAgICAgfQogICAgICAgICAgICA8L3N0eWxlPgogICAgICAgIAo8L2hlYWQ+Cjxib2R5PiAgICAKICAgIAogICAgICAgICAgICA8ZGl2IGNsYXNzPSJmb2xpdW0tbWFwIiBpZD0ibWFwX2Y4ZDY4ZjkwMDA0MTQxNzA5ZDYzOWQ3ZjI0OGIxMTQ4IiA+PC9kaXY+CiAgICAgICAgCjwvYm9keT4KPHNjcmlwdD4gICAgCiAgICAKCiAgICAgICAgICAgIAogICAgICAgICAgICAgICAgdmFyIGJvdW5kcyA9IG51bGw7CiAgICAgICAgICAgIAoKICAgICAgICAgICAgdmFyIG1hcF9mOGQ2OGY5MDAwNDE0MTcwOWQ2MzlkN2YyNDhiMTE0OCA9IEwubWFwKAogICAgICAgICAgICAgICAgICAgICAgICAgICAgICAgICAgJ21hcF9mOGQ2OGY5MDAwNDE0MTcwOWQ2MzlkN2YyNDhiMTE0OCcsCiAgICAgICAgICAgICAgICAgICAgICAgICAgICAgICAgICB7Y2VudGVyOiBbNTIuMzY1NTUzNCw0LjkzNDQzMTddLAogICAgICAgICAgICAgICAgICAgICAgICAgICAgICAgICAgem9vbTogMTAsCiAgICAgICAgICAgICAgICAgICAgICAgICAgICAgICAgICBtYXhCb3VuZHM6IGJvdW5kcywKICAgICAgICAgICAgICAgICAgICAgICAgICAgICAgICAgIGxheWVyczogW10sCiAgICAgICAgICAgICAgICAgICAgICAgICAgICAgICAgICB3b3JsZENvcHlKdW1wOiBmYWxzZSwKICAgICAgICAgICAgICAgICAgICAgICAgICAgICAgICAgIGNyczogTC5DUlMuRVBTRzM4NTcKICAgICAgICAgICAgICAgICAgICAgICAgICAgICAgICAgfSk7CiAgICAgICAgICAgIAogICAgICAgIAogICAgCiAgICAgICAgICAgIHZhciB0aWxlX2xheWVyX2RmMmJlNTU4NDlkMTQyZjlhOWE1ZmIwZWUwMWI2OTVmID0gTC50aWxlTGF5ZXIoCiAgICAgICAgICAgICAgICAnaHR0cHM6Ly97c30udGlsZS5vcGVuc3RyZWV0bWFwLm9yZy97en0ve3h9L3t5fS5wbmcnLAogICAgICAgICAgICAgICAgewogICJhdHRyaWJ1dGlvbiI6IG51bGwsCiAgImRldGVjdFJldGluYSI6IGZhbHNlLAogICJtYXhab29tIjogMTgsCiAgIm1pblpvb20iOiAxLAogICJub1dyYXAiOiBmYWxzZSwKICAic3ViZG9tYWlucyI6ICJhYmMiCn0KICAgICAgICAgICAgICAgICkuYWRkVG8obWFwX2Y4ZDY4ZjkwMDA0MTQxNzA5ZDYzOWQ3ZjI0OGIxMTQ4KTsKICAgICAgICAKPC9zY3JpcHQ+\" style=\"position:absolute;width:100%;height:100%;left:0;top:0;border:none !important;\" allowfullscreen webkitallowfullscreen mozallowfullscreen></iframe></div></div>"
      ],
      "text/plain": [
       "<folium.folium.Map at 0x7f66457b4358>"
      ]
     },
     "execution_count": 7,
     "metadata": {},
     "output_type": "execute_result"
    }
   ],
   "source": [
    "import folium\n",
    "mijnMap = folium.Map(location=[52.3655534, 4.9344317])\n",
    "mijnMap"
   ]
  },
  {
   "cell_type": "code",
   "execution_count": 12,
   "metadata": {},
   "outputs": [
    {
     "data": {
      "text/html": [
       "<div style=\"width:100%;\"><div style=\"position:relative;width:100%;height:0;padding-bottom:60%;\"><iframe src=\"data:text/html;charset=utf-8;base64,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\" style=\"position:absolute;width:100%;height:100%;left:0;top:0;border:none !important;\" allowfullscreen webkitallowfullscreen mozallowfullscreen></iframe></div></div>"
      ],
      "text/plain": [
       "<folium.folium.Map at 0x7f6645691390>"
      ]
     },
     "execution_count": 12,
     "metadata": {},
     "output_type": "execute_result"
    }
   ],
   "source": [
    "import folium\n",
    "import pandas as pd\n",
    "from folium.plugins import HeatMap\n",
    "\n",
    "\n",
    "dfBijen = pd.read_csv(\"honingbijen.csv\")\n",
    "map = folium.Map(location=[52.370304,4.918527], zoom_start=10)\n",
    "\n",
    "kolommen = [\"LAT\", \"LNG\"]\n",
    "dfBijenLocaties = dfBijen[kolommen]\n",
    "bijenkorvenLijst = dfBijenLocaties.values.tolist()\n",
    "\n",
    "map.add_child(HeatMap(bijenkorvenLijst))\n",
    "map.save(outfile='bijenkorven.html')\n",
    "map"
   ]
  },
  {
   "cell_type": "code",
   "execution_count": null,
   "metadata": {},
   "outputs": [],
   "source": []
  }
 ],
 "metadata": {
  "kernelspec": {
   "display_name": "Python 3.6",
   "language": "python",
   "name": "python36"
  },
  "language_info": {
   "codemirror_mode": {
    "name": "ipython",
    "version": 3
   },
   "file_extension": ".py",
   "mimetype": "text/x-python",
   "name": "python",
   "nbconvert_exporter": "python",
   "pygments_lexer": "ipython3",
   "version": "3.6.3"
  }
 },
 "nbformat": 4,
 "nbformat_minor": 2
}
